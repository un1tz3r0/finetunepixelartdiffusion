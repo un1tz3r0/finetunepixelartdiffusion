{
  "nbformat": 4,
  "nbformat_minor": 0,
  "metadata": {
    "colab": {
      "name": "train fine tuned diffusion model show progress graphs.ipynb",
      "provenance": [],
      "collapsed_sections": [],
      "mount_file_id": "1XZMy6_uf4cJ2NEVgiR9heNmAem1obBwM",
      "authorship_tag": "ABX9TyOsEZNPsV4Dtd+M4ASoOIo+",
      "include_colab_link": true
    },
    "kernelspec": {
      "name": "python3",
      "display_name": "Python 3"
    },
    "language_info": {
      "name": "python"
    }
  },
  "cells": [
    {
      "cell_type": "markdown",
      "metadata": {
        "id": "view-in-github",
        "colab_type": "text"
      },
      "source": [
        "<a href=\"https://colab.research.google.com/github/un1tz3r0/finetunepixelartdiffusion/blob/main/train_fine_tuned_diffusion_model_show_progress_graphs.ipynb\" target=\"_parent\"><img src=\"https://colab.research.google.com/assets/colab-badge.svg\" alt=\"Open In Colab\"/></a>"
      ]
    },
    {
      "cell_type": "code",
      "execution_count": null,
      "metadata": {
        "id": "BtqegHRMb3td"
      },
      "outputs": [],
      "source": [
        ""
      ]
    },
    {
      "cell_type": "code",
      "source": [
        "columns = []\n",
        "rows = []\n",
        "data = {}\n",
        "\n",
        "colnames = None\n",
        "\n",
        "import csv\n",
        "with open('/content/drive/MyDrive/deep_learning/guided-diffusion-sxela/progress.csv', newline='') as f:\n",
        "    reader = csv.reader(f)\n",
        "    for num, line in enumerate(reader):\n",
        "        #print(line)\n",
        "        if colnames == None:\n",
        "          colnames = line\n",
        "          continue\n",
        "        rowdict = {colname: line[colnum] for colnum, colname in enumerate(colnames)}\n",
        "        data[num] = rowdict\n",
        "\n",
        "print(data)\n",
        "\n",
        "import matplotlib.pyplot as plt\n",
        " \n",
        "def tonum(s):\n",
        "  try:\n",
        "    return float(s)\n",
        "  except Exception as err:\n",
        "    print(err)\n",
        "    return 0\n",
        "\n",
        "\n",
        "for colname in colnames:\n",
        "  if colname in ['samples', 'step'] or colname.endswith('_norm'):\n",
        "    continue\n",
        "  colsamps = [tonum(row['samples']) for num, row in data.items()]\n",
        "  coldata = [tonum(row[colname]) for num, row in data.items()]\n",
        "  plt.plot(colsamps, coldata, label=colname)\n",
        "#y1 = [1, 3, 5, 3, 1, 3, 5, 3, 1]\n",
        "#y2 = [2, 4, 6, 4, 2, 4, 6, 4, 2]\n",
        "#plt.plot(x, y1, label=\"line L\")\n",
        "#plt.plot(x, y2, label=\"line H\")\n",
        "plt.plot()\n",
        "\n",
        "plt.xlabel(\"x axis\")\n",
        "plt.ylabel(\"y axis\")\n",
        "plt.title(\"Line Graph Example\")\n",
        "plt.legend()\n",
        "plt.show()"
      ],
      "metadata": {
        "id": "hj-P2VVAjexQ"
      },
      "execution_count": null,
      "outputs": []
    }
  ]
}